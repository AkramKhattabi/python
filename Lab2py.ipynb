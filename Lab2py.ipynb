{
 "cells": [
  {
   "cell_type": "code",
   "execution_count": 5,
   "id": "596f28a5-04b4-4763-9735-de70207687fd",
   "metadata": {},
   "outputs": [
    {
     "name": "stdout",
     "output_type": "stream",
     "text": [
      "[ 3 67 60 50 96 91 76 23 25 65]\n"
     ]
    },
    {
     "data": {
      "text/plain": [
       "55.6"
      ]
     },
     "execution_count": 5,
     "metadata": {},
     "output_type": "execute_result"
    }
   ],
   "source": [
    "import numpy as np\n",
    "\n",
    "rng = np.random.default_rng()\n",
    "\n",
    "c = np.array(rng.integers(low=0, high=100, size=10))\n",
    "\n",
    "print(c)\n",
    "\n",
    "np.mean(c)\n"
   ]
  },
  {
   "cell_type": "code",
   "execution_count": 6,
   "id": "26e5a393-3f67-4563-9044-93a4adf584d3",
   "metadata": {},
   "outputs": [
    {
     "name": "stdout",
     "output_type": "stream",
     "text": [
      "[97 30 18 66 62 44 93 58 97  0]\n"
     ]
    },
    {
     "data": {
      "text/plain": [
       "60.0"
      ]
     },
     "execution_count": 6,
     "metadata": {},
     "output_type": "execute_result"
    }
   ],
   "source": [
    "import numpy as np\n",
    "\n",
    "rng = np.random.default_rng()\n",
    "\n",
    "c = np.array(rng.integers(low=0, high=100, size=10))\n",
    "\n",
    "print(c)\n",
    "\n",
    "np.median(c)\n"
   ]
  },
  {
   "cell_type": "code",
   "execution_count": 10,
   "id": "e67d2508-0ba8-4ff4-acc6-918ff603f064",
   "metadata": {},
   "outputs": [
    {
     "name": "stdout",
     "output_type": "stream",
     "text": [
      "[9 2 7 0 2 3 8 8 8 8 0 8 7 5 7 2 0 3 4 8 8 3 9 3 9 6 7 6 5 0 3 3 1 7 4 3 1\n",
      " 3 9 9 4 3 9 8 9 1 9 2 7 1 7 3 2 5 0 9 4 8 7 5 5 1 9 8 2 9 4 7 1 2 5 3 7 0\n",
      " 7 5 8 8 6 5 5 4 9 0 6 2 8 0 9 1 4 4 7 2 4 7 2 7 9 2 6 2 5 7 5 3 4 2 3 4 8\n",
      " 7 9 6 9 9 9 9 7 1 9 3 4 1 7 0 3 4 3 3 9 9 4 6 7 7 2 5 9 3 8 2 1 5 6 3 1 2\n",
      " 7 2 4 5 8 0 2 9 5 2 8 1 2 5 7 1 5 4 8 7 0 8 8 1 5 5 6 5 5 4 0 3 6 8 4 5 3\n",
      " 3 2 7 5 8 5 7 0 5 0 5 3 3 1 8 1 6 3 6 6 3 9 2 9 4 5 1 8 5 1 6 7 3 4 0 7 9\n",
      " 8 5 5 9 2 4 8 2 8 0 1 4 2 7 1 8 4 0 9 0 4 8 1 6 8 5 1 1 4 9 9 8 1 3 7 5 3\n",
      " 6 4 4 6 4 1 9 1 4 9 1 6 1 8 3 7 3 1 7 1 5 3 0 6 4 9 0 7 3 2 1 6 8 4 2 3 3\n",
      " 5 7 5 4 4 6 4 6 6 5 9 2 1 4 0 0 1 8 8 7 3 8 1 9 0 7 6 6 8 2 6 4 7 5 1 0 6\n",
      " 6 9 0 5 3 1 5 4 8 6 9 5 9 1 6 3 5 2 8 2 3 2 1 7 2 0 3 6 1 5 5 2 6 8 4 6 4\n",
      " 6 4 2 6 6 8 0 5 3 3 2 2 3 3 3 5 1 1 2 4 8 4 9 5 4 6 0 8 8 7 1 0 9 6 7 7 2\n",
      " 2 2 8 1 7 2 4 7 9 7 7 7 8 7 3 3 4 8 2 4 3 3 6 5 6 3 8 4 9 2 7 1 8 8 3 7 8\n",
      " 0 3 6 7 2 7 6 9 9 1 9 5 5 2 6 2 8 4 3 6 0 4 7 9 9 7 1 8 2 3 4 3 2 7 2 9 0\n",
      " 2 9 7 2 0 5 4 5 2 3 1 0 4 1 3 9 1 3 0 8 1 6 3 1 3 2 8 0 0 3 1 6 3 1 9 6 1\n",
      " 8 0 7 8 9 9 4 7 3 6 0 0 5 6 6 7 8 8 8 4 5 9 1 1 4 8 4 7 3 5 1 9 4 1 7 2 2\n",
      " 7 9 0 1 8 0 0 8 0 1 3 3 7 7 5 2 5 7 9 2 1 0 5 4 5 1 4 3 6 2 1 1 3 4 2 8 0\n",
      " 4 3 0 7 9 2 3 6 2 3 7 0 2 4 1 3 8 7 6 5 4 7 6 4 7 9 6 6 3 5 5 3 0 9 1 7 8\n",
      " 0 1 2 0 0 8 5 0 2 7 9 3 1 1 1 8 8 2 1 6 3 5 3 8 0 4 6 0 6 3 0 1 1 8 5 0 1\n",
      " 5 4 9 0 0 2 1 5 6 9 2 5 0 0 1 3 8 9 6 7 9 6 1 8 3 1 4 3 4 8 8 8 8 5 8 2 2\n",
      " 0 5 5 9 1 2 6 8 1 4 3 6 3 0 1 7 4 8 3 7 9 5 1 8 1 0 7 5 2 8 4 1 1 8 0 3 2\n",
      " 4 0 1 9 9 4 7 6 4 8 6 6 7 2 3 5 4 0 5 2 0 9 1 1 3 4 4 5 5 2 9 4 2 7 8 4 6\n",
      " 5 4 9 4 6 8 5 3 8 1 7 9 2 9 6 7 6 2 6 2 5 5 1 0 8 9 1 6 7 3 9 7 5 5 3 8 6\n",
      " 0 4 0 6 5 3 0 6 9 1 5 2 0 6 0 4 0 3 1 9 1 1 1 0 2 0 2 3 6 0 5 1 0 5 0 0 1\n",
      " 1 0 0 1 0 7 1 5 9 4 4 9 9 9 7 2 1 0 6 2 5 1 4 7 8 3 1 7 8 4 7 9 3 2 2 0 6\n",
      " 8 2 9 1 7 5 2 2 1 7 1 2 3 2 5 9 0 8 0 8 7 3 3 6 6 8 7 0 9 9 2 3 7 6 6 8 0\n",
      " 1 3 7 0 1 2 7 6 1 1 8 6 4 0 8 2 7 3 9 4 6 5 6 7 4 5 2 0 4 6 4 5 1 6 6 9 0\n",
      " 4 5 9 9 9 3 2 1 5 1 6 8 4 5 4 6 7 1 3 6 2 3 8 3 6 7 4 5 0 1 2 2 4 6 7 2 8]\n"
     ]
    }
   ],
   "source": [
    "import numpy as np\n",
    "\n",
    "rng = np.random.default_rng()\n",
    "\n",
    "c = np.array(rng.integers(low=0, high=10, size=999))\n",
    "\n",
    "print(c)\n",
    "print(c)"
   ]
  },
  {
   "cell_type": "code",
   "execution_count": null,
   "id": "b3c2a86c-16a9-4b68-9365-077bf7742600",
   "metadata": {},
   "outputs": [],
   "source": []
  },
  {
   "cell_type": "code",
   "execution_count": null,
   "id": "c0093c2c-5646-4c62-b0de-f38664832905",
   "metadata": {},
   "outputs": [],
   "source": []
  }
 ],
 "metadata": {
  "kernelspec": {
   "display_name": "Python 3 (ipykernel)",
   "language": "python",
   "name": "python3"
  },
  "language_info": {
   "codemirror_mode": {
    "name": "ipython",
    "version": 3
   },
   "file_extension": ".py",
   "mimetype": "text/x-python",
   "name": "python",
   "nbconvert_exporter": "python",
   "pygments_lexer": "ipython3",
   "version": "3.12.0"
  }
 },
 "nbformat": 4,
 "nbformat_minor": 5
}
