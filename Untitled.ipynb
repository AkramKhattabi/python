{
 "cells": [
  {
   "cell_type": "code",
   "execution_count": 3,
   "id": "a655c78e-7352-41b5-9e79-580cb0b1c53c",
   "metadata": {},
   "outputs": [
    {
     "name": "stdout",
     "output_type": "stream",
     "text": [
      "hello it's àkràm \n"
     ]
    }
   ],
   "source": [
    "print(\"hello it's àkràm \")"
   ]
  },
  {
   "cell_type": "code",
   "execution_count": null,
   "id": "91a150c1-a858-4f38-9d90-4bba4f5b0093",
   "metadata": {},
   "outputs": [],
   "source": []
  }
 ],
 "metadata": {
  "kernelspec": {
   "display_name": "Python 3 (ipykernel)",
   "language": "python",
   "name": "python3"
  },
  "language_info": {
   "codemirror_mode": {
    "name": "ipython",
    "version": 3
   },
   "file_extension": ".py",
   "mimetype": "text/x-python",
   "name": "python",
   "nbconvert_exporter": "python",
   "pygments_lexer": "ipython3",
   "version": "3.12.0"
  }
 },
 "nbformat": 4,
 "nbformat_minor": 5
}
